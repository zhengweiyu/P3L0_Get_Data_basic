{
 "cells": [
  {
   "cell_type": "markdown",
   "metadata": {},
   "source": [
    "# 练习: 审查数据质量"
   ]
  },
  {
   "cell_type": "code",
   "execution_count": 39,
   "metadata": {
    "collapsed": false
   },
   "outputs": [
    {
     "name": "stdout",
     "output_type": "stream",
     "text": [
      "{'code': 'NULL', 'populationRural': 'NULL', 'state_label': 'NULL', 'twinCity_label': 'NULL', 'mayor_label': 'NULL', 'mayor': 'NULL', 'governingBody_label': 'NULL', 'areaLand': 'NULL', 'rdf-schema#label': 'Kuju Hazaribag', 'foundingPerson_label': 'NULL', 'division_label': 'NULL', 'location': 'NULL', 'foundingYear': 'NULL', 'homepage': 'NULL', 'division': 'NULL', 'elevation': '426.0', 'government': 'NULL', 'URI': 'http://dbpedia.org/resource/Kuju,_Hazaribag', 'isPartOf_label': '{Jharkhand|Ramgarh district}', 'areaWater': 'NULL', 'type_label': 'NULL', 'part_label': 'NULL', 'leader': 'NULL', 'city_label': 'NULL', 'minimumElevation': 'NULL', 'foundingDate': 'NULL', 'twinCountry_label': 'NULL', 'municipality_label': 'NULL', 'wgs84_pos#long': '85.5', 'anthem': 'NULL', 'populationUrbanDensity': 'NULL', 'state': 'NULL', 'district_label': 'NULL', 'administrativeDistrict_label': 'NULL', 'isPartOf': '{http://dbpedia.org/resource/Jharkhand|http://dbpedia.org/resource/Ramgarh_district}', 'governingBody': 'NULL', 'thumbnail': 'NULL', 'populationMetro': 'NULL', 'daylightSavingTimeZone_label': 'NULL', 'leaderParty': 'NULL', 'leaderName_label': 'NULL', 'daylightSavingTimeZone': 'NULL', 'populationAsOf': 'NULL', 'anthem_label': 'NULL', 'motto': 'NULL', 'governmentType_label': 'NULL', 'populationTotalRanking': 'NULL', 'populationMetroDensity': 'NULL', 'country': 'http://dbpedia.org/resource/India', 'region': 'NULL', 'region_label': 'NULL', 'federalState': 'NULL', 'timeZone': 'http://dbpedia.org/resource/Indian_Standard_Time', 'leader_label': 'NULL', 'leaderName': 'NULL', 'point': '23.72 85.5', 'municipality': 'NULL', 'thumbnail_label': 'NULL', 'city': 'NULL', 'district': 'NULL', 'area': 'NULL', 'areaCode': 'NULL', 'name': 'Kuju', 'populationTotal': '18049', 'areaRural': 'NULL', 'areaUrban': 'NULL', 'type': 'NULL', 'location_label': 'NULL', '22-rdf-syntax-ns#type': '{http://dbpedia.org/ontology/City|http://dbpedia.org/ontology/Place|http://dbpedia.org/ontology/PopulatedPlace|http://dbpedia.org/ontology/Settlement|http://schema.org/City|http://schema.org/Place|http://www.opengis.net/gml/_Feature|http://www.w3.org/2002/07/owl#Thing}', 'part': 'NULL', 'areaMetro': 'NULL', 'depiction_label': 'NULL', 'government_label': 'NULL', 'isoCodeRegion': 'NULL', 'leaderTitle': 'NULL', 'federalState_label': 'NULL', 'isoCodeRegion_label': 'NULL', 'country_label': 'India', 'administrativeDistrict': 'NULL', 'homepage_label': 'NULL', '22-rdf-syntax-ns#type_label': '{city|place|populated place|municipality|City|Place|_Feature|owl#Thing}', 'depiction': 'NULL', 'timeZone_label': 'Indian Standard Time', 'areaTotal': 'NULL', 'governmentType': 'NULL', 'maximumElevation': 'NULL', 'rdf-schema#comment': 'Kuju is a census town in Ramgarh district in the Indian state of Jharkhand.', 'nick': 'NULL', 'postalCode': 'NULL', 'wgs84_pos#lat': '23.72', 'populationDensity': 'NULL', 'twinCountry': 'NULL', 'percentageOfAreaWater': 'NULL', 'leaderParty_label': 'NULL', 'synonym': 'NULL', 'twinCity': 'NULL', 'utcOffset': '+5:30', 'foundingPerson': 'NULL', 'populationUrban': 'NULL'}\n",
      "{'areaCode': None,\n",
      " 'areaLand': None,\n",
      " 'areaMetro': None,\n",
      " 'areaUrban': None,\n",
      " 'elevation': 'str',\n",
      " 'governmentType_label': None,\n",
      " 'homepage': None,\n",
      " 'isPartOf_label': 'str',\n",
      " 'maximumElevation': None,\n",
      " 'minimumElevation': None,\n",
      " 'name': 'str',\n",
      " 'populationDensity': None,\n",
      " 'populationTotal': 'str',\n",
      " 'timeZone_label': 'str',\n",
      " 'utcOffset': 'str',\n",
      " 'wgs84_pos#lat': 'str',\n",
      " 'wgs84_pos#long': 'str'}\n"
     ]
    },
    {
     "ename": "AssertionError",
     "evalue": "",
     "output_type": "error",
     "traceback": [
      "\u001b[0;31m---------------------------------------------------------------------------\u001b[0m",
      "\u001b[0;31mAssertionError\u001b[0m                            Traceback (most recent call last)",
      "\u001b[0;32m<ipython-input-39-af980e08fccd>\u001b[0m in \u001b[0;36m<module>\u001b[0;34m()\u001b[0m\n\u001b[1;32m     74\u001b[0m \u001b[0;34m\u001b[0m\u001b[0m\n\u001b[1;32m     75\u001b[0m \u001b[0;32mif\u001b[0m \u001b[0m__name__\u001b[0m \u001b[0;34m==\u001b[0m \u001b[0;34m\"__main__\"\u001b[0m\u001b[0;34m:\u001b[0m\u001b[0;34m\u001b[0m\u001b[0m\n\u001b[0;32m---> 76\u001b[0;31m     \u001b[0mtest\u001b[0m\u001b[0;34m(\u001b[0m\u001b[0;34m)\u001b[0m\u001b[0;34m\u001b[0m\u001b[0m\n\u001b[0m",
      "\u001b[0;32m<ipython-input-39-af980e08fccd>\u001b[0m in \u001b[0;36mtest\u001b[0;34m()\u001b[0m\n\u001b[1;32m     70\u001b[0m     \u001b[0mpprint\u001b[0m\u001b[0;34m.\u001b[0m\u001b[0mpprint\u001b[0m\u001b[0;34m(\u001b[0m\u001b[0mfieldtypes\u001b[0m\u001b[0;34m)\u001b[0m\u001b[0;34m\u001b[0m\u001b[0m\n\u001b[1;32m     71\u001b[0m \u001b[0;34m\u001b[0m\u001b[0m\n\u001b[0;32m---> 72\u001b[0;31m     \u001b[0;32massert\u001b[0m \u001b[0mfieldtypes\u001b[0m\u001b[0;34m[\u001b[0m\u001b[0;34m\"areaLand\"\u001b[0m\u001b[0;34m]\u001b[0m \u001b[0;34m==\u001b[0m \u001b[0mset\u001b[0m\u001b[0;34m(\u001b[0m\u001b[0;34m[\u001b[0m\u001b[0mtype\u001b[0m\u001b[0;34m(\u001b[0m\u001b[0;36m1.1\u001b[0m\u001b[0;34m)\u001b[0m\u001b[0;34m,\u001b[0m \u001b[0mtype\u001b[0m\u001b[0;34m(\u001b[0m\u001b[0;34m[\u001b[0m\u001b[0;34m]\u001b[0m\u001b[0;34m)\u001b[0m\u001b[0;34m,\u001b[0m \u001b[0mtype\u001b[0m\u001b[0;34m(\u001b[0m\u001b[0mNone\u001b[0m\u001b[0;34m)\u001b[0m\u001b[0;34m]\u001b[0m\u001b[0;34m)\u001b[0m\u001b[0;34m\u001b[0m\u001b[0m\n\u001b[0m\u001b[1;32m     73\u001b[0m     \u001b[0;32massert\u001b[0m \u001b[0mfieldtypes\u001b[0m\u001b[0;34m[\u001b[0m\u001b[0;34m'areaMetro'\u001b[0m\u001b[0;34m]\u001b[0m \u001b[0;34m==\u001b[0m \u001b[0mset\u001b[0m\u001b[0;34m(\u001b[0m\u001b[0;34m[\u001b[0m\u001b[0mtype\u001b[0m\u001b[0;34m(\u001b[0m\u001b[0;36m1.1\u001b[0m\u001b[0;34m)\u001b[0m\u001b[0;34m,\u001b[0m \u001b[0mtype\u001b[0m\u001b[0;34m(\u001b[0m\u001b[0mNone\u001b[0m\u001b[0;34m)\u001b[0m\u001b[0;34m]\u001b[0m\u001b[0;34m)\u001b[0m\u001b[0;34m\u001b[0m\u001b[0m\n\u001b[1;32m     74\u001b[0m \u001b[0;34m\u001b[0m\u001b[0m\n",
      "\u001b[0;31mAssertionError\u001b[0m: "
     ]
    }
   ],
   "source": [
    "#!/usr/bin/env python\n",
    "# -*- coding: utf-8 -*-\n",
    "\"\"\"\n",
    "In this problem set you work with cities infobox data, audit it, come up with a\n",
    "cleaning idea and then clean it up. In the first exercise we want you to audit\n",
    "the datatypes that can be found in some particular fields in the dataset.\n",
    "The possible types of values can be:\n",
    "- NoneType if the value is a string \"NULL\" or an empty string \"\"\n",
    "- list, if the value starts with \"{\"\n",
    "- int, if the value can be cast to int\n",
    "- float, if the value can be cast to float, but CANNOT be cast to int.\n",
    "   For example, '3.23e+07' should be considered a float because it can be cast\n",
    "   as float but int('3.23e+07') will throw a ValueError\n",
    "- 'str', for all other values\n",
    "\n",
    "The audit_file function should return a dictionary containing fieldnames and a \n",
    "SET of the types that can be found in the field. e.g.\n",
    "{\"field1\": set([type(float()), type(int()), type(str())]),\n",
    " \"field2\": set([type(str())]),\n",
    "  ....\n",
    "}\n",
    "The type() function returns a type object describing the argument given to the \n",
    "function. You can also use examples of objects to create type objects, e.g.\n",
    "type(1.1) for a float: see the test function below for examples.\n",
    "\n",
    "Note that the first three rows (after the header row) in the cities.csv file\n",
    "are not actual data points. The contents of these rows should note be included\n",
    "when processing data types. Be sure to include functionality in your code to\n",
    "skip over or detect these rows.\n",
    "\"\"\"\n",
    "import codecs\n",
    "import ast\n",
    "import csv\n",
    "import json\n",
    "import pprint\n",
    "\n",
    "CITIES = 'cities.csv'\n",
    "\n",
    "FIELDS = [\"name\", \"timeZone_label\", \"utcOffset\", \"homepage\", \"governmentType_label\",\n",
    "          \"isPartOf_label\", \"areaCode\", \"populationTotal\", \"elevation\",\n",
    "          \"maximumElevation\", \"minimumElevation\", \"populationDensity\",\n",
    "          \"wgs84_pos#lat\", \"wgs84_pos#long\", \"areaLand\", \"areaMetro\", \"areaUrban\"]\n",
    "\n",
    "def audit_file(filename, fields):\n",
    "    fieldtypes = {}\n",
    "    \n",
    "    with open(filename, 'rb') as csvfile:\n",
    "        cities_reader = csv.DictReader(csvfile)\n",
    "        city_index = 0\n",
    "        for row in cities_reader :\n",
    "            if city_index == 4:\n",
    "                print row\n",
    "                for name in fields:\n",
    "                    if row[name] == \"NULL\" or row[name] == \"\" :\n",
    "                        fieldtypes[name] = None\n",
    "                    elif type(row[name]) is int:\n",
    "                        fieldtypes[name] = \"int\"\n",
    "                    elif type(row[name]) is float:\n",
    "                        fieldtypes[name] = \"float\"\n",
    "                    else:\n",
    "                        fieldtypes[name] = \"str\"\n",
    "            else: \n",
    "                pass\n",
    "            city_index = city_index + 1       \n",
    "    return fieldtypes\n",
    "\n",
    "def test():\n",
    "    fieldtypes = audit_file(CITIES, FIELDS)\n",
    "\n",
    "    pprint.pprint(fieldtypes)\n",
    "\n",
    "    assert fieldtypes[\"areaLand\"] == set([type(1.1), type([]), type(None)])\n",
    "    assert fieldtypes['areaMetro'] == set([type(1.1), type(None)])\n",
    "    \n",
    "if __name__ == \"__main__\":\n",
    "    test()\n"
   ]
  }
 ],
 "metadata": {
  "anaconda-cloud": {},
  "kernelspec": {
   "display_name": "Python [conda env:py2env]",
   "language": "python",
   "name": "conda-env-py2env-py"
  },
  "language_info": {
   "codemirror_mode": {
    "name": "ipython",
    "version": 2
   },
   "file_extension": ".py",
   "mimetype": "text/x-python",
   "name": "python",
   "nbconvert_exporter": "python",
   "pygments_lexer": "ipython2",
   "version": "2.7.13"
  }
 },
 "nbformat": 4,
 "nbformat_minor": 2
}
